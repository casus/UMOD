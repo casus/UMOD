{
 "cells": [
  {
   "cell_type": "code",
   "execution_count": 26,
   "metadata": {},
   "outputs": [],
   "source": [
    "# Loading necessary packages\n",
    "import matplotlib.pyplot as plt\n",
    "import numpy as np\n",
    "import pandas as pd\n",
    "from pathlib import Path\n",
    "from sklearn.preprocessing import StandardScaler\n",
    "from src.utils.circularity import get_corres_circularity\n",
    "\n",
    "import warnings \n",
    "warnings.filterwarnings('ignore')\n",
    "\n",
    "%matplotlib inline"
   ]
  },
  {
   "cell_type": "code",
   "execution_count": 27,
   "metadata": {},
   "outputs": [],
   "source": [
    "# Initializing Pillow\n",
    "try:\n",
    "    from PIL import Image as pil_image\n",
    "except ImportError:\n",
    "    pil_image = None\n",
    "\n",
    "if pil_image is not None:\n",
    "    _PIL_INTERPOLATION_METHODS = {\n",
    "        \"nearest\": pil_image.NEAREST,\n",
    "        \"bilinear\": pil_image.BILINEAR,\n",
    "        \"bicubic\": pil_image.BICUBIC,\n",
    "        \"hamming\": pil_image.HAMMING,\n",
    "        \"box\": pil_image.BOX,\n",
    "        \"lanczos\": pil_image.LANCZOS,\n",
    "    }"
   ]
  },
  {
   "cell_type": "code",
   "execution_count": 28,
   "metadata": {},
   "outputs": [
    {
     "name": "stdout",
     "output_type": "stream",
     "text": [
      "[PosixPath('../../../ds1_multiclass/.DS_Store'), PosixPath('../../../ds1_multiclass/test'), PosixPath('../../../ds1_multiclass/train'), PosixPath('../../../ds1_multiclass/validation')]\n"
     ]
    }
   ],
   "source": [
    "# Initializing data directory\n",
    "data_dir = Path(\"<main data directory containing subdirectories train/validation/test>\")\n",
    "data_folders = list(data_dir.iterdir())\n",
    "\n",
    "print(data_folders)"
   ]
  },
  {
   "cell_type": "code",
   "execution_count": 29,
   "metadata": {},
   "outputs": [
    {
     "name": "stdout",
     "output_type": "stream",
     "text": [
      "[PosixPath('../../../ds1_multiclass/test/labels.csv')]\n",
      "[PosixPath('../../../ds1_multiclass/train/labels.csv')]\n",
      "[PosixPath('../../../ds1_multiclass/validation/labels.csv')]\n",
      "(7236, 6)\n"
     ]
    }
   ],
   "source": [
    "# Aggregating all the labels for the different data splits\n",
    "labels_df = pd.DataFrame()\n",
    "\n",
    "for f in data_folders:\n",
    "    if not str(f.stem).startswith('.'):\n",
    "        split = f.parts[4]\n",
    "        files = list(f.glob('*.csv'))\n",
    "        print(files)\n",
    "        temp_df = pd.read_csv(files[0], header=0, index_col=False)\n",
    "        temp_df['split'] = split\n",
    "        labels_df = pd.concat([labels_df,temp_df], axis=0)\n",
    "\n",
    "print(labels_df.shape)"
   ]
  },
  {
   "cell_type": "code",
   "execution_count": 30,
   "metadata": {},
   "outputs": [
    {
     "data": {
      "text/plain": [
       "img          \n",
       "6189 Z 150921    439\n",
       "6189 J 051021    395\n",
       "7518 G 210721    265\n",
       "8530 Z 161121    263\n",
       "7518 I 230621    253\n",
       "                ... \n",
       "8219 A 021121      1\n",
       "6569 A 210421      1\n",
       "8225 K 070921      1\n",
       "6427 C 280921      1\n",
       "7626 F 040821      1\n",
       "Length: 295, dtype: int64"
      ]
     },
     "execution_count": 30,
     "metadata": {},
     "output_type": "execute_result"
    }
   ],
   "source": [
    "#Extracting the objects from these images and normalizing to standard size\n",
    "labels_df[['img']].value_counts()"
   ]
  },
  {
   "cell_type": "code",
   "execution_count": 31,
   "metadata": {},
   "outputs": [],
   "source": [
    "# Calculating features by scaling to total feature length of 256\n",
    "\n",
    "feature_arr = np.empty([len(labels_df),256])\n",
    "feature_images = np.empty([len(labels_df),16,16])\n",
    "\n",
    "\n",
    "for index, row in labels_df.iterrows():\n",
    "    img = np.asarray(pil_image.open('../../../ds1/'+row['split']+\n",
    "                                    '/img/cls/'+row['img']+'.tif').convert('L')).astype('uint8')\n",
    "    mask  = np.asarray(pil_image.open('../../../ds1/'+row['split']+\n",
    "                                    '/man_mask/cls/'+row['img']+'_Simple Segmentation.tif').convert('L')).astype('uint8')\n",
    "\n",
    "    img = img*mask\n",
    "    radius = int(np.ceil(np.sqrt(row['area']/np.pi)))\n",
    "\n",
    "    clip_len = int(np.ceil(1.5*radius)) + 5\n",
    "    img_height, img_width = img.shape\n",
    "\n",
    "    #We assume that centroid-0 is y and centroid-1 is x\n",
    "\n",
    "    img_clipped = img[max(int(row['y']-clip_len), 0): min(int(row['y']+clip_len), img_height),\n",
    "        max(int(row['x']-clip_len), 0): min(int(row['x']+clip_len), img_width)]\n",
    "\n",
    "    if np.any(img_clipped != 0):\n",
    "        if img_clipped.shape[0]*img_clipped.shape[1] > 256 :\n",
    "            im = pil_image.fromarray(img_clipped)\n",
    "\n",
    "            ratio =256/(img_clipped.shape[0]*img_clipped.shape[1])\n",
    "            \n",
    "            if ratio == 0.0:\n",
    "                pass  \n",
    "            elif ratio == 1.0:\n",
    "                pass\n",
    "            else:\n",
    "                img_clipped = np.array(im.resize((int(img_clipped.shape[1]*np.sqrt(ratio)), \n",
    "                                                int(img_clipped.shape[0]*np.sqrt(ratio))), \n",
    "                                                pil_image.BILINEAR))\n",
    "                 \n",
    "        if img_clipped.shape[0]*img_clipped.shape[1] >= 256 :\n",
    "            feature = img_clipped.flatten()[:256]\n",
    "        else:\n",
    "            pad = (256 - len(img_clipped.flatten()))/2\n",
    "            if pad != np.round(pad):\n",
    "                feature = np.pad(img_clipped.flatten(), (int(np.floor(pad)), int(np.floor(pad))+1), \n",
    "                                'constant')\n",
    "            else:\n",
    "                feature = np.pad(img_clipped.flatten(),(int(pad),int(pad)),'constant')\n",
    "\n",
    "        feature_images[index] = np.array(im.resize((16,16),pil_image.BILINEAR))\n",
    "        feature_arr[index] = feature\n",
    "    else:\n",
    "        continue"
   ]
  },
  {
   "cell_type": "code",
   "execution_count": 32,
   "metadata": {},
   "outputs": [
    {
     "name": "stdout",
     "output_type": "stream",
     "text": [
      "(7236, 256)\n",
      "3562\n",
      "3562\n"
     ]
    }
   ],
   "source": [
    "# Removing cases of empty features\n",
    "print(feature_arr.shape)\n",
    "labels_df_nonempty = labels_df.iloc[~np.all(feature_arr == 0, axis=1)]\n",
    "\n",
    "labels = np.array([int(x[6]) for x in labels_df['label']])\n",
    "labels_for_visualization = np.array([x for x in labels_df['label']])\n",
    "\n",
    "condition = ~np.all(feature_arr == 0, axis=1)\n",
    "\n",
    "labels = np.extract(condition, labels)\n",
    "labels_for_visualization = np.extract(condition,labels_for_visualization)\n",
    "\n",
    "print(len(labels))\n",
    "print(len(labels_for_visualization))"
   ]
  },
  {
   "cell_type": "code",
   "execution_count": 33,
   "metadata": {},
   "outputs": [],
   "source": [
    "#Morphological feature clusters\n",
    "multiclass_df_train = labels_df_nonempty[labels_df_nonempty['split']=='train']\n",
    "multiclass_df_test = labels_df_nonempty[labels_df_nonempty['split']=='test']\n",
    "multiclass_df_validation = labels_df_nonempty[labels_df_nonempty['split']=='validation']\n",
    "\n",
    "multiclass_df_train= get_corres_circularity(multiclass_df_train,split='train')\n",
    "multiclass_df_val= get_corres_circularity(multiclass_df_validation,split='validation')\n",
    "multiclass_df_test= get_corres_circularity(multiclass_df_test,split='test')"
   ]
  },
  {
   "cell_type": "code",
   "execution_count": 34,
   "metadata": {},
   "outputs": [
    {
     "name": "stdout",
     "output_type": "stream",
     "text": [
      "(3562, 6)\n"
     ]
    }
   ],
   "source": [
    "df_list = [multiclass_df_train,multiclass_df_val,multiclass_df_test]\n",
    "\n",
    "manually_labelled_df = pd.DataFrame()\n",
    "for df in df_list:\n",
    "    manually_labelled_df = pd.concat([manually_labelled_df,df])\n",
    "\n",
    "print(manually_labelled_df.shape)"
   ]
  },
  {
   "cell_type": "code",
   "execution_count": 35,
   "metadata": {},
   "outputs": [
    {
     "data": {
      "text/html": [
       "<div>\n",
       "<style scoped>\n",
       "    .dataframe tbody tr th:only-of-type {\n",
       "        vertical-align: middle;\n",
       "    }\n",
       "\n",
       "    .dataframe tbody tr th {\n",
       "        vertical-align: top;\n",
       "    }\n",
       "\n",
       "    .dataframe thead th {\n",
       "        text-align: right;\n",
       "    }\n",
       "</style>\n",
       "<table border=\"1\" class=\"dataframe\">\n",
       "  <thead>\n",
       "    <tr style=\"text-align: right;\">\n",
       "      <th></th>\n",
       "      <th>label</th>\n",
       "      <th>x</th>\n",
       "      <th>y</th>\n",
       "      <th>img</th>\n",
       "      <th>area</th>\n",
       "      <th>circularity</th>\n",
       "    </tr>\n",
       "  </thead>\n",
       "  <tbody>\n",
       "    <tr>\n",
       "      <th>0</th>\n",
       "      <td>class 2: RBC/WBC</td>\n",
       "      <td>131.584158</td>\n",
       "      <td>4.935644</td>\n",
       "      <td>130 G 261021</td>\n",
       "      <td>202</td>\n",
       "      <td>0.555988</td>\n",
       "    </tr>\n",
       "    <tr>\n",
       "      <th>1</th>\n",
       "      <td>class 2: RBC/WBC</td>\n",
       "      <td>401.429000</td>\n",
       "      <td>47.877000</td>\n",
       "      <td>130 G 261021</td>\n",
       "      <td>281</td>\n",
       "      <td>0.665112</td>\n",
       "    </tr>\n",
       "    <tr>\n",
       "      <th>2</th>\n",
       "      <td>class 2: RBC/WBC</td>\n",
       "      <td>40.965000</td>\n",
       "      <td>57.303000</td>\n",
       "      <td>130 G 261021</td>\n",
       "      <td>340</td>\n",
       "      <td>0.682445</td>\n",
       "    </tr>\n",
       "    <tr>\n",
       "      <th>3</th>\n",
       "      <td>class 2: RBC/WBC</td>\n",
       "      <td>89.986000</td>\n",
       "      <td>77.050000</td>\n",
       "      <td>130 G 261021</td>\n",
       "      <td>282</td>\n",
       "      <td>0.682039</td>\n",
       "    </tr>\n",
       "    <tr>\n",
       "      <th>4</th>\n",
       "      <td>class 2: RBC/WBC</td>\n",
       "      <td>288.263000</td>\n",
       "      <td>87.531000</td>\n",
       "      <td>130 G 261021</td>\n",
       "      <td>131</td>\n",
       "      <td>0.611218</td>\n",
       "    </tr>\n",
       "  </tbody>\n",
       "</table>\n",
       "</div>"
      ],
      "text/plain": [
       "              label           x          y           img  area  circularity\n",
       "0  class 2: RBC/WBC  131.584158   4.935644  130 G 261021   202     0.555988\n",
       "1  class 2: RBC/WBC  401.429000  47.877000  130 G 261021   281     0.665112\n",
       "2  class 2: RBC/WBC   40.965000  57.303000  130 G 261021   340     0.682445\n",
       "3  class 2: RBC/WBC   89.986000  77.050000  130 G 261021   282     0.682039\n",
       "4  class 2: RBC/WBC  288.263000  87.531000  130 G 261021   131     0.611218"
      ]
     },
     "execution_count": 35,
     "metadata": {},
     "output_type": "execute_result"
    }
   ],
   "source": [
    "manually_labelled_df.head()"
   ]
  },
  {
   "cell_type": "code",
   "execution_count": 36,
   "metadata": {},
   "outputs": [
    {
     "data": {
      "text/plain": [
       "class 1: rod            1697\n",
       "class 2: RBC/WBC        1056\n",
       "class 4: misc            550\n",
       "class 5: single EPC      182\n",
       "class 3: yeast            41\n",
       "class 6: few EPC          26\n",
       "class 7: several EPC      10\n",
       "Name: label, dtype: int64"
      ]
     },
     "execution_count": 36,
     "metadata": {},
     "output_type": "execute_result"
    }
   ],
   "source": [
    "manually_labelled_df['label'].value_counts()"
   ]
  },
  {
   "cell_type": "code",
   "execution_count": 37,
   "metadata": {},
   "outputs": [
    {
     "data": {
      "text/html": [
       "<div>\n",
       "<style scoped>\n",
       "    .dataframe tbody tr th:only-of-type {\n",
       "        vertical-align: middle;\n",
       "    }\n",
       "\n",
       "    .dataframe tbody tr th {\n",
       "        vertical-align: top;\n",
       "    }\n",
       "\n",
       "    .dataframe thead th {\n",
       "        text-align: right;\n",
       "    }\n",
       "</style>\n",
       "<table border=\"1\" class=\"dataframe\">\n",
       "  <thead>\n",
       "    <tr style=\"text-align: right;\">\n",
       "      <th></th>\n",
       "      <th>area</th>\n",
       "      <th>circularity</th>\n",
       "    </tr>\n",
       "  </thead>\n",
       "  <tbody>\n",
       "    <tr>\n",
       "      <th>0</th>\n",
       "      <td>202</td>\n",
       "      <td>0.555988</td>\n",
       "    </tr>\n",
       "    <tr>\n",
       "      <th>1</th>\n",
       "      <td>281</td>\n",
       "      <td>0.665112</td>\n",
       "    </tr>\n",
       "    <tr>\n",
       "      <th>2</th>\n",
       "      <td>340</td>\n",
       "      <td>0.682445</td>\n",
       "    </tr>\n",
       "    <tr>\n",
       "      <th>3</th>\n",
       "      <td>282</td>\n",
       "      <td>0.682039</td>\n",
       "    </tr>\n",
       "    <tr>\n",
       "      <th>4</th>\n",
       "      <td>131</td>\n",
       "      <td>0.611218</td>\n",
       "    </tr>\n",
       "    <tr>\n",
       "      <th>...</th>\n",
       "      <td>...</td>\n",
       "      <td>...</td>\n",
       "    </tr>\n",
       "    <tr>\n",
       "      <th>261</th>\n",
       "      <td>34</td>\n",
       "      <td>0.333945</td>\n",
       "    </tr>\n",
       "    <tr>\n",
       "      <th>262</th>\n",
       "      <td>28</td>\n",
       "      <td>0.258506</td>\n",
       "    </tr>\n",
       "    <tr>\n",
       "      <th>0</th>\n",
       "      <td>929</td>\n",
       "      <td>0.441864</td>\n",
       "    </tr>\n",
       "    <tr>\n",
       "      <th>1</th>\n",
       "      <td>40</td>\n",
       "      <td>0.329241</td>\n",
       "    </tr>\n",
       "    <tr>\n",
       "      <th>2</th>\n",
       "      <td>163</td>\n",
       "      <td>0.600641</td>\n",
       "    </tr>\n",
       "  </tbody>\n",
       "</table>\n",
       "<p>3562 rows × 2 columns</p>\n",
       "</div>"
      ],
      "text/plain": [
       "     area  circularity\n",
       "0     202     0.555988\n",
       "1     281     0.665112\n",
       "2     340     0.682445\n",
       "3     282     0.682039\n",
       "4     131     0.611218\n",
       "..    ...          ...\n",
       "261    34     0.333945\n",
       "262    28     0.258506\n",
       "0     929     0.441864\n",
       "1      40     0.329241\n",
       "2     163     0.600641\n",
       "\n",
       "[3562 rows x 2 columns]"
      ]
     },
     "execution_count": 37,
     "metadata": {},
     "output_type": "execute_result"
    }
   ],
   "source": [
    "# Extracting only relevant columns\n",
    "acdata = manually_labelled_df.drop(manually_labelled_df.columns[[0,1,2,3]], axis=1)\n",
    "acdata"
   ]
  },
  {
   "cell_type": "code",
   "execution_count": 38,
   "metadata": {},
   "outputs": [
    {
     "data": {
      "text/plain": [
       "array([[-0.1219185 ,  0.78681196],\n",
       "       [-0.10750153,  1.28042695],\n",
       "       [-0.09673442,  1.35883206],\n",
       "       ...,\n",
       "       [ 0.01075414,  0.27057685],\n",
       "       [-0.15148242, -0.2388667 ],\n",
       "       [-0.12903574,  0.98879736]])"
      ]
     },
     "execution_count": 38,
     "metadata": {},
     "output_type": "execute_result"
    }
   ],
   "source": [
    "# Scaling the data\n",
    "scaler = StandardScaler()\n",
    "\n",
    "scaled_acdata = scaler.fit_transform(acdata)  \n",
    "scaled_acdata"
   ]
  },
  {
   "cell_type": "code",
   "execution_count": 39,
   "metadata": {},
   "outputs": [
    {
     "data": {
      "text/plain": [
       "Text(0, 0.5, 'circularity')"
      ]
     },
     "execution_count": 39,
     "metadata": {},
     "output_type": "execute_result"
    },
    {
     "data": {
      "image/png": "[encoded data removed]",
      "text/plain": [
       "<Figure size 640x480 with 2 Axes>"
      ]
     },
     "metadata": {},
     "output_type": "display_data"
    }
   ],
   "source": [
    "plt.scatter(scaled_acdata[:,0], np.log(scaled_acdata[:,1]), c=np.array([int(x[6]) for x in manually_labelled_df['label']]), cmap='Spectral', s=7, vmin=0, vmax =6, alpha =0.5)\n",
    "plt.colorbar(boundaries=np.arange(8)-0.5).set_ticks(np.arange(7))\n",
    "plt.xlim(-0.5,8)\n",
    "plt.ylim(-8,1)\n",
    "\n",
    "plt.title('Morphological Feature Projection', fontsize=18)\n",
    "plt.xlabel('log(area)')\n",
    "plt.ylabel('circularity')\n",
    "# plt.savefig(f'<filepath/filename>.svg')"
   ]
  },
  {
   "cell_type": "code",
   "execution_count": null,
   "metadata": {},
   "outputs": [],
   "source": []
  }
 ],
 "metadata": {
  "kernelspec": {
   "display_name": "tf_gpu2",
   "language": "python",
   "name": "python3"
  },
  "language_info": {
   "codemirror_mode": {
    "name": "ipython",
    "version": 3
   },
   "file_extension": ".py",
   "mimetype": "text/x-python",
   "name": "python",
   "nbconvert_exporter": "python",
   "pygments_lexer": "ipython3",
   "version": "3.10.8"
  },
  "orig_nbformat": 4
 },
 "nbformat": 4,
 "nbformat_minor": 2
}
