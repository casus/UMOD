{
 "cells": [
  {
   "cell_type": "code",
   "execution_count": 34,
   "metadata": {},
   "outputs": [],
   "source": [
    "from src.unet7 import Unet\n",
    "from src.utils.config import read_json_config\n",
    "from src.utils.io import image_mask_generator_from_npz\n",
    "from pathlib import Path\n",
    "from tensorflow.keras.preprocessing.image import \\\n",
    "    ImageDataGenerator as defaultImageDataGenerator\n",
    "from tensorflow.keras.optimizers import Adam\n",
    "from src.utils.losses import dice_bce_loss, dice_coeff\n",
    "import tensorflow as tf\n",
    "import numpy as np\n",
    "from tqdm.auto import tqdm\n"
   ]
  },
  {
   "cell_type": "code",
   "execution_count": 2,
   "metadata": {},
   "outputs": [],
   "source": [
    "CONFIG_PATH = '../configs/training_config.json'\n",
    "CHECKPOINT_PATH = '../model/interesting_checkpoints/model.epoch349.hdf5'"
   ]
  },
  {
   "cell_type": "code",
   "execution_count": 3,
   "metadata": {},
   "outputs": [],
   "source": [
    "config = read_json_config(CONFIG_PATH)\n",
    "parameters = config['parameters']"
   ]
  },
  {
   "cell_type": "code",
   "execution_count": 15,
   "metadata": {},
   "outputs": [],
   "source": [
    "model = Unet(parameters['target_height'], parameters['target_width'], filters=64, nclasses=1, do=0.0)\n",
    "model.load_weights(CHECKPOINT_PATH)\n",
    "model.compile(optimizer=Adam(learning_rate=parameters['start_lr']),\n",
    "                loss=dice_bce_loss, metrics=[dice_coeff])"
   ]
  },
  {
   "cell_type": "code",
   "execution_count": 37,
   "metadata": {},
   "outputs": [
    {
     "name": "stdout",
     "output_type": "stream",
     "text": [
      "(3030, 256, 256, 1)\n",
      "(3030, 256, 256, 1)\n"
     ]
    }
   ],
   "source": [
    "img_mask_gen_args_val = config['validation']['img_mask_gen_args']\n",
    "\n",
    "image_mask_datagen_val = defaultImageDataGenerator(\n",
    "    **img_mask_gen_args_val)\n",
    "val_data_path = Path('..') / config['validation']['data_path']\n",
    "image_mask_generator_val = image_mask_generator_from_npz(\n",
    "    str(val_data_path),\n",
    "    image_mask_datagen_val,\n",
    "    config['validation']['batch_size'],\n",
    "    parameters['seed'],\n",
    ")"
   ]
  },
  {
   "cell_type": "code",
   "execution_count": 40,
   "metadata": {},
   "outputs": [],
   "source": [
    "def evaluate(model, generator):\n",
    "    dce = []\n",
    "    loss = []\n",
    "    t = 0\n",
    "    for img, mask in tqdm(generator):\n",
    "        pred = model.predict(img)\n",
    "        dce.append(dice_coeff(pred, mask))\n",
    "        loss.append(dice_bce_loss(pred, mask))\n",
    "        t += 1\n",
    "        if t > 2:\n",
    "            break\n",
    "    return np.mean(dce), np.mean(loss)"
   ]
  },
  {
   "cell_type": "code",
   "execution_count": 41,
   "metadata": {},
   "outputs": [
    {
     "data": {
      "application/json": {
       "ascii": false,
       "bar_format": null,
       "colour": null,
       "elapsed": 0.009258508682250977,
       "initial": 0,
       "n": 0,
       "ncols": null,
       "nrows": null,
       "postfix": null,
       "prefix": "",
       "rate": null,
       "total": 61,
       "unit": "it",
       "unit_divisor": 1000,
       "unit_scale": false
      },
      "application/vnd.jupyter.widget-view+json": {
       "model_id": "60be587a1d954a5bb35a3cb7126e93f9",
       "version_major": 2,
       "version_minor": 0
      },
      "text/plain": [
       "  0%|          | 0/61 [00:00<?, ?it/s]"
      ]
     },
     "metadata": {},
     "output_type": "display_data"
    },
    {
     "data": {
      "text/plain": [
       "(0.54722565, 0.55134237)"
      ]
     },
     "execution_count": 41,
     "metadata": {},
     "output_type": "execute_result"
    }
   ],
   "source": [
    "evaluate(model, image_mask_generator_val)"
   ]
  },
  {
   "cell_type": "code",
   "execution_count": null,
   "metadata": {},
   "outputs": [],
   "source": []
  }
 ],
 "metadata": {
  "kernelspec": {
   "display_name": "Python 3",
   "language": "python",
   "name": "python3"
  },
  "language_info": {
   "codemirror_mode": {
    "name": "ipython",
    "version": 3
   },
   "file_extension": ".py",
   "mimetype": "text/x-python",
   "name": "python",
   "nbconvert_exporter": "python",
   "pygments_lexer": "ipython3",
   "version": "3.10.8"
  },
  "orig_nbformat": 4,
  "vscode": {
   "interpreter": {
    "hash": "6346366e856fdebceeb4b199e94e835e603346714cbcea5ecdde4ea5ee2e258d"
   }
  }
 },
 "nbformat": 4,
 "nbformat_minor": 2
}
